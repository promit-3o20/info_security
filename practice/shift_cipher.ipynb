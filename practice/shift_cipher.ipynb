{
 "cells": [
  {
   "cell_type": "code",
   "execution_count": 7,
   "id": "30f13637",
   "metadata": {},
   "outputs": [],
   "source": [
    "def scEncryption(text, n):\n",
    "    result = ''\n",
    "    for i in range(len(text)):\n",
    "        char = text[i]\n",
    "        \n",
    "        if(char.isspace()):\n",
    "            result += ' '\n",
    "        elif(char.isupper()):\n",
    "            result += chr((ord(char) + n - 65) % 26 + 65)\n",
    "        else:\n",
    "            result += chr((ord(char) + n - 97) % 26 + 97)\n",
    "    return result"
   ]
  },
  {
   "cell_type": "code",
   "execution_count": 8,
   "id": "6f30dbfa",
   "metadata": {},
   "outputs": [],
   "source": [
    "def scDecryption(text, n):\n",
    "    result = ''\n",
    "    for i in range(len(text)):\n",
    "        char = text[i]\n",
    "        \n",
    "        if(char.isspace()):\n",
    "            result += ' '\n",
    "        elif(char.isupper()):\n",
    "            result += chr((ord(char) - n - 65) % 26 + 65)\n",
    "        else:\n",
    "            result += chr((ord(char) - n - 97) % 26 + 97)\n",
    "    return result"
   ]
  },
  {
   "cell_type": "code",
   "execution_count": 9,
   "id": "e07bfef0",
   "metadata": {},
   "outputs": [],
   "source": [
    "def main():\n",
    "    text = input('Enter the text--> ')\n",
    "    key = int(input('Enter the key--> '))\n",
    "    en = scEncryption(text, key)\n",
    "    de = scDecryption(en, key)\n",
    "    print(\"Encripted msg is-->\" + en)\n",
    "    print(\"Decripted msg is-->\" + de)"
   ]
  },
  {
   "cell_type": "code",
   "execution_count": 10,
   "id": "cee47025",
   "metadata": {
    "scrolled": true
   },
   "outputs": [
    {
     "name": "stdout",
     "output_type": "stream",
     "text": [
      "Enter the text--> I am Bhoot\n",
      "Enter the key--> 6\n",
      "Encripted msg is-->O gs Hnuuz\n",
      "Decripted msg is-->I am Bhoot\n"
     ]
    }
   ],
   "source": [
    "if __name__ == \"__main__\":\n",
    "    main()"
   ]
  },
  {
   "cell_type": "code",
   "execution_count": null,
   "id": "d129aa32",
   "metadata": {},
   "outputs": [],
   "source": []
  }
 ],
 "metadata": {
  "kernelspec": {
   "display_name": "Python 3 (ipykernel)",
   "language": "python",
   "name": "python3"
  },
  "language_info": {
   "codemirror_mode": {
    "name": "ipython",
    "version": 3
   },
   "file_extension": ".py",
   "mimetype": "text/x-python",
   "name": "python",
   "nbconvert_exporter": "python",
   "pygments_lexer": "ipython3",
   "version": "3.8.10"
  }
 },
 "nbformat": 4,
 "nbformat_minor": 5
}
