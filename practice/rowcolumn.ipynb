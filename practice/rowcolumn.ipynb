{
 "cells": [
  {
   "cell_type": "code",
   "execution_count": 101,
   "id": "ebd3ba1c",
   "metadata": {},
   "outputs": [],
   "source": [
    "import math"
   ]
  },
  {
   "cell_type": "code",
   "execution_count": 102,
   "id": "e81094c4",
   "metadata": {},
   "outputs": [],
   "source": [
    "def encode(msg, key):\n",
    "    ct = ''\n",
    "    \n",
    "    k_in = 0\n",
    "    \n",
    "    msg_len = len(msg)\n",
    "    print(msg_len)\n",
    "    msg_lst = list(msg)\n",
    "    print(msg_lst)\n",
    "    key_lst = sorted(list(key))\n",
    "    print(key_lst)\n",
    "    \n",
    "    col = len(key) \n",
    "    print(col)\n",
    "    row = math.ceil(msg_len / col)\n",
    "    print(row)\n",
    "    \n",
    "    fill_null = int((row * col) - msg_len)\n",
    "    print(fill_null)\n",
    "    msg_lst.extend('#' * fill_null)\n",
    "    \n",
    "    mat = [msg_lst[i : i + col] for i in range(0, len(msg_lst), col)]\n",
    "    print(mat)\n",
    "    for _ in range(col):\n",
    "        print('loop index',_)\n",
    "        curr_idx = key.index(key_lst[k_in])\n",
    "        print('current key',curr_idx)\n",
    "        ct += ''.join([row[curr_idx] for row in mat])\n",
    "        print('ct=',ct)\n",
    "        k_in += 1\n",
    "        print('key index',k_in)\n",
    "        \n",
    "    return ct"
   ]
  },
  {
   "cell_type": "code",
   "execution_count": 106,
   "id": "247c8dd2",
   "metadata": {},
   "outputs": [],
   "source": [
    "def main():\n",
    "    tx = input(\"Enter the text--> \")\n",
    "    key = input(\"Enter key as text--> \")\n",
    "    en = encode(tx, key)\n",
    "    print('Encrypted msg--> ',en)"
   ]
  },
  {
   "cell_type": "code",
   "execution_count": 108,
   "id": "d6d39f5d",
   "metadata": {},
   "outputs": [
    {
     "name": "stdout",
     "output_type": "stream",
     "text": [
      "Enter the text--> Pramit Biswas\n",
      "Enter key as text--> fuck\n",
      "13\n",
      "['P', 'r', 'a', 'm', 'i', 't', ' ', 'B', 'i', 's', 'w', 'a', 's']\n",
      "['c', 'f', 'k', 'u']\n",
      "4\n",
      "4\n",
      "3\n",
      "[['P', 'r', 'a', 'm'], ['i', 't', ' ', 'B'], ['i', 's', 'w', 'a'], ['s', '#', '#', '#']]\n",
      "loop index 0\n",
      "current key 2\n",
      "ct= a w#\n",
      "key index 1\n",
      "loop index 1\n",
      "current key 0\n",
      "ct= a w#Piis\n",
      "key index 2\n",
      "loop index 2\n",
      "current key 3\n",
      "ct= a w#PiismBa#\n",
      "key index 3\n",
      "loop index 3\n",
      "current key 1\n",
      "ct= a w#PiismBa#rts#\n",
      "key index 4\n",
      "Encrypted msg-->  a w#PiismBa#rts#\n"
     ]
    }
   ],
   "source": [
    "main()"
   ]
  },
  {
   "cell_type": "code",
   "execution_count": null,
   "id": "66c6c2a0",
   "metadata": {},
   "outputs": [],
   "source": []
  }
 ],
 "metadata": {
  "kernelspec": {
   "display_name": "Python 3 (ipykernel)",
   "language": "python",
   "name": "python3"
  },
  "language_info": {
   "codemirror_mode": {
    "name": "ipython",
    "version": 3
   },
   "file_extension": ".py",
   "mimetype": "text/x-python",
   "name": "python",
   "nbconvert_exporter": "python",
   "pygments_lexer": "ipython3",
   "version": "3.8.10"
  }
 },
 "nbformat": 4,
 "nbformat_minor": 5
}
