{
 "cells": [
  {
   "cell_type": "code",
   "execution_count": 68,
   "id": "3846b883",
   "metadata": {},
   "outputs": [],
   "source": [
    "def mInv(a, n):\n",
    "    t = 0\n",
    "    r = n\n",
    "    nudet = 1\n",
    "    nuder = a\n",
    "    while nuder != 0:\n",
    "        q = int(r/nuder)\n",
    "        t, nudet  = nudet, t - q*nudet\n",
    "        r, nuder = nuder, r - q*nuder\n",
    "           \n",
    "    if r > 1:\n",
    "        return -1\n",
    "    if t < 0:\n",
    "        t = t + n\n",
    "    return t"
   ]
  },
  {
   "cell_type": "code",
   "execution_count": 69,
   "id": "c5ec6b4f",
   "metadata": {},
   "outputs": [],
   "source": [
    "def afEncryption(text, key1, key2):\n",
    "#     y = (ax + b)mod m\n",
    "    res = \"\"\n",
    "    for i in range(len(text)):\n",
    "        ch = text[i]\n",
    "        \n",
    "        if(ch.isspace()):\n",
    "            res += \" \"\n",
    "        elif(ch.isupper()):\n",
    "            res += chr(((key1*(ord(ch) - 65) + key2) % 26 + 65))\n",
    "        else:\n",
    "            res += chr(((key1*(ord(ch) - 97) + key2) % 26 + 97))\n",
    "    return res"
   ]
  },
  {
   "cell_type": "code",
   "execution_count": 70,
   "id": "0231b158",
   "metadata": {},
   "outputs": [],
   "source": [
    "def afDecryption(text, key1, key2):\n",
    "#     x = a-1*(y - b)mod m\n",
    "    res = \"\"\n",
    "    a_Inv = mInv(key1, 26)\n",
    "    for i in range(len(text)):\n",
    "        ch = text[i]\n",
    "        \n",
    "        if(ch.isspace()):\n",
    "            res += \" \"\n",
    "        elif(ch.isupper()):\n",
    "            res += chr(((a_Inv*((ord(ch) - 65) - key2)) % 26 + 65))\n",
    "        else:\n",
    "            res += chr(((a_Inv*((ord(ch) - 97) - key2)) % 26 + 97))\n",
    "    return res"
   ]
  },
  {
   "cell_type": "code",
   "execution_count": 73,
   "id": "79671ebb",
   "metadata": {},
   "outputs": [],
   "source": [
    "def main():\n",
    "#     tx = input('Enter the text: ')\n",
    "#     key1 = int(input('Enter the first key: '))\n",
    "#     key2 = int(input('Enter the second key: '))\n",
    "    tx = \"Fuck you motherchod\"\n",
    "    key1 = 3\n",
    "    key2 = 2\n",
    "    en = afEncryption(tx, key1, key2)\n",
    "    de = afDecryption(en, key1, key2)\n",
    "    print('Encripted text: ' + en)\n",
    "    print('Decripted text: ' + de)"
   ]
  },
  {
   "cell_type": "code",
   "execution_count": 74,
   "id": "36d27f39",
   "metadata": {
    "scrolled": true
   },
   "outputs": [
    {
     "name": "stdout",
     "output_type": "stream",
     "text": [
      "Encripted text: Rkig wsk mshxobixsl\n",
      "Decripted text: Fuck you motherchod\n"
     ]
    }
   ],
   "source": [
    "main()"
   ]
  }
 ],
 "metadata": {
  "kernelspec": {
   "display_name": "Python 3 (ipykernel)",
   "language": "python",
   "name": "python3"
  },
  "language_info": {
   "codemirror_mode": {
    "name": "ipython",
    "version": 3
   },
   "file_extension": ".py",
   "mimetype": "text/x-python",
   "name": "python",
   "nbconvert_exporter": "python",
   "pygments_lexer": "ipython3",
   "version": "3.8.10"
  }
 },
 "nbformat": 4,
 "nbformat_minor": 5
}
