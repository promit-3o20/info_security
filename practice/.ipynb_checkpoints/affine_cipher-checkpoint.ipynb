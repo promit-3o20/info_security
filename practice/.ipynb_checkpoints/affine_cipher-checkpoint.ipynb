{
 "cells": [
  {
   "cell_type": "code",
   "execution_count": 7,
   "id": "c5ec6b4f",
   "metadata": {},
   "outputs": [],
   "source": [
    "def afEncryption(text, key1, key2):\n",
    "#     y = (ax + b)mod m\n",
    "    res = \"\"\n",
    "    for i in range(len(text)):\n",
    "        ch = text[i]\n",
    "        \n",
    "        if(ch.isspace()):\n",
    "            res += \" \"\n",
    "        elif(ch.isupper()):\n",
    "            res += chr(((key1*ord(ch) + key2 - 65) % 26 + 65))\n",
    "        else:\n",
    "            res += chr(((key1*ord(ch) + key2 - 97) % 26 + 97))\n",
    "    return res"
   ]
  },
  {
   "cell_type": "code",
   "execution_count": 9,
   "id": "16152ae3",
   "metadata": {},
   "outputs": [],
   "source": [
    "def mInv(a, n):\n",
    "    t = 0\n",
    "    r = n\n",
    "    nudet = 1\n",
    "    nuder = a\n",
    "    while nuder != 0:\n",
    "        q = int(r/nuder)\n",
    "        t = nudet\n",
    "        nudet = t - q*nudet\n",
    "        r = nuder\n",
    "        nuder = r - q*nuder\n",
    "    \n",
    "    if r > 1:\n",
    "        print(\"Inverse nei\")\n",
    "    elif t < 0:\n",
    "        t = t + n\n",
    "    return t"
   ]
  },
  {
   "cell_type": "code",
   "execution_count": 25,
   "id": "baee0152",
   "metadata": {},
   "outputs": [],
   "source": [
    "def afDecryption(text, key1, key2):\n",
    "#     x = a-1*(y - b)mod m\n",
    "    res = \"\"\n",
    "    for i in range(len(text)):\n",
    "        ch = text[i]\n",
    "        \n",
    "        if(ch.isspace()):\n",
    "            res += \" \"\n",
    "        elif(ch.isupper()):\n",
    "            res += chr(((mInv(key1, 26)*((ord(ch) - 65) - key2)) % 26 + 65))\n",
    "        else:\n",
    "            res += chr(((mInv(key1, 26)*(ord(ch) - key2 - 97)) % 26 + 97))\n",
    "    return res"
   ]
  },
  {
   "cell_type": "code",
   "execution_count": 26,
   "id": "79671ebb",
   "metadata": {},
   "outputs": [],
   "source": [
    "def main():\n",
    "#     tx = input('Enter the text: ')\n",
    "#     key1 = int(input('Enter the first key: '))\n",
    "#     key2 = int(input('Enter the second key: '))\n",
    "    tx = \"Fuck you motherchod\"\n",
    "    key1 = 3\n",
    "    key2 = 4\n",
    "    en = afEncryption(tx, key1, key2)\n",
    "    de = afDecryption(en, key1, key2)\n",
    "    print('Encripted text: ' + en)\n",
    "    print('Decripted text: ' + de)"
   ]
  },
  {
   "cell_type": "code",
   "execution_count": 27,
   "id": "36d27f39",
   "metadata": {
    "scrolled": true
   },
   "outputs": [
    {
     "name": "stdout",
     "output_type": "stream",
     "text": [
      "Encripted text: Tywu kgy agvlcpwlgz\n",
      "Decripted text: Zqes kmq cmldobedmj\n"
     ]
    }
   ],
   "source": [
    "main()"
   ]
  },
  {
   "cell_type": "code",
   "execution_count": null,
   "id": "0d8bb553",
   "metadata": {},
   "outputs": [],
   "source": []
  }
 ],
 "metadata": {
  "kernelspec": {
   "display_name": "Python 3 (ipykernel)",
   "language": "python",
   "name": "python3"
  },
  "language_info": {
   "codemirror_mode": {
    "name": "ipython",
    "version": 3
   },
   "file_extension": ".py",
   "mimetype": "text/x-python",
   "name": "python",
   "nbconvert_exporter": "python",
   "pygments_lexer": "ipython3",
   "version": "3.8.10"
  }
 },
 "nbformat": 4,
 "nbformat_minor": 5
}
